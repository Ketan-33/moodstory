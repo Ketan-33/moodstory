{
 "cells": [
  {
   "cell_type": "markdown",
   "id": "0de2530f-eaf5-4bba-98fb-a11912280b65",
   "metadata": {},
   "source": [
    "General Instructions\n",
    "* This notebook requires some manuel intervention to download the TESS dataset, kindly execute each cell one by one by reading the instructions"
   ]
  },
  {
   "cell_type": "markdown",
   "id": "cf77d0d0-88e5-4bc5-9c41-b7272d4969b3",
   "metadata": {},
   "source": [
    "\n",
    "# Solution Design - Downloading Datasets and Combining Them\n",
    "\n",
    "For this task, the dataset is built using 5252 samples from:\n",
    "\n",
    "> the Ryerson Audio-Visual Database of Emotional Speech and Song (RAVDESS) dataset (https://zenodo.org/record/1188976)\n",
    "\n",
    "> the Toronto emotional speech set (TESS) dataset (https://www.kaggle.com/datasets/ejlok1/toronto-emotional-speech-set-tess)\n",
    "\n",
    "Both of the dataset can be downloaded from the above links free of cost."
   ]
  },
  {
   "cell_type": "code",
   "execution_count": null,
   "id": "27683c16-f130-43fc-b075-44fc533e899c",
   "metadata": {},
   "outputs": [],
   "source": [
    "# Creating DATASET directory\n",
    "!mkdir DATASET"
   ]
  },
  {
   "cell_type": "markdown",
   "id": "93479605-6bcb-4ff2-969e-92c621903a86",
   "metadata": {},
   "source": [
    "### Download RAVDESS dataset"
   ]
  },
  {
   "cell_type": "code",
   "execution_count": null,
   "id": "802110c5-4b0e-43c6-9a46-815b3940858c",
   "metadata": {},
   "outputs": [],
   "source": [
    "# Downloading RAVDESS dataset\n",
    "!wget https://zenodo.org/record/1188976/files/Audio_Song_Actors_01-24.zip\n",
    "!wget https://zenodo.org/record/1188976/files/Audio_Speech_Actors_01-24.zip\n",
    "\n",
    "#Extracting RAVDESS dataset and adding it to DATASET directory\n",
    "!unzip Audio_Song_Actors_01-24.zip -d DATASET\n",
    "!unzip Audio_Speech_Actors_01-24.zip -d DATASET"
   ]
  },
  {
   "cell_type": "markdown",
   "id": "74ae4a09-5e82-4a42-8104-59fee9b795e7",
   "metadata": {},
   "source": [
    "### IMPORTANT NOTE: Manuel Download of TESS dataset\n",
    "* TESS dataset does not have a direct download link due to licensing issues\n",
    "* Kindly visit the link (https://borealisdata.ca/dataset.xhtml?persistentId=doi%3A10.5683%2FSP2%2FE8H2MF)\n",
    "* Click __\"Access Dataset\"__, then on __\"Download ZIP (268.3 MB)\"__ and click the __\"Accept\"__ button to accept the license and download the  the dataset to your computer\n",
    "* The download should now be started and a compressed file called __dataverse_files.zip__ should be downloaded to your computer\n",
    "* Upload the file __dataverse_files.zip__ to Intel Developer Cloud\n",
    "* Run the below cell to prepare the dataset for TESS pipeline"
   ]
  },
  {
   "cell_type": "code",
   "execution_count": null,
   "id": "89578fde-ecc8-4cab-bf64-2aa630091486",
   "metadata": {},
   "outputs": [],
   "source": [
    "# Creating TESS_Toronto_emotional_speech_set_data directory\n",
    "!mkdir TESS_Toronto_emotional_speech_set_data\n",
    "\n",
    "# Creating the Actor_26 and Actor_28 directories for TESS pipeline\n",
    "!mkdir DATASET/Actor_26\n",
    "!mkdir DATASET/Actor_28\n",
    "\n",
    "# Extracting TESS dataset and adding it to the TESS_Toronto_emotional_speech_set_data directory\n",
    "!unzip dataverse_files.zip -d TESS_Toronto_emotional_speech_set_data"
   ]
  },
  {
   "cell_type": "markdown",
   "id": "8f3b8261-fe13-4bf2-a30e-b259a6393db1",
   "metadata": {},
   "source": [
    "### TESS Pipeline\n",
    "\n",
    "The RAVDESS dataset uses a unique filename. The filename consists of a 7-part numerical identifier (e.g., 02-01-06-01-02-01-12.mp4). These identifiers define the stimulus characteristics:\n",
    "\n",
    "Filename identifiers\n",
    "* Modality (01 = full-AV, 02 = video-only, 03 = audio-only).\n",
    "* Vocal channel (01 = speech, 02 = song).\n",
    "* Emotion (01 = neutral, 02 = calm, 03 = happy, 04 = sad, 05 = angry, 06 = fearful, 07 = disgust, 08 = surprised).\n",
    "* Emotional intensity (01 = normal, 02 = strong). NOTE: There is no strong intensity for the ‘neutral’ emotion.\n",
    "* Statement (01 = “Kids are talking by the door”, 02 = “Dogs are sitting by the door”).\n",
    "* Repetition (01 = 1st repetition, 02 = 2nd repetition).\n",
    "* Actor (01 to 24. Odd numbered actors are male, even numbered actors are female).\n",
    "\n",
    "Filename example: 02-01-06-01-02-01-12.mp4\n",
    "* Video-only (02)\n",
    "* Speech (01)\n",
    "* Fearful (06)\n",
    "* Normal intensity (01)\n",
    "* Statement “dogs” (02)\n",
    "* 1st Repetition (01)\n",
    "* 12th Actor (12)\n",
    "* Female, as the actor ID number is even.\n",
    "\n",
    "\n",
    "The TESS dataset uses a directory heirarchy strucutre with 2 actors named OAF and YAF followed by the emotion conveyed by the actor as shown below:\n",
    "TESS_Toronto_emotional_speech_set_data\n",
    "> --OAF_angry\n",
    "\n",
    "> --OAF_disgust\n",
    "\n",
    "> ..\n",
    "\n",
    "> YAF_angry\n",
    "\n",
    "> YAF_disgust\n",
    "\n",
    "> ..\n",
    "\n",
    "To facilitate the feature creation, the TESS data have been renamed using the same naming convention adopted\n",
    "by the RAVDESS dataset. In case of TESS files, we are assigning values other than the ones specified below as those are not used by the model, hence we are assigning random integers.\n",
    "- 03 (Random)\n",
    "- 01 (Random)\n",
    "- 01 (This varies based on emotion as per the RAVDESS dataset as 01 = neutral, 03 = happy, 04 = sad, 05 = angry, 06 = fearful, 07 = disgust, 08 = surprised. The 02 = calm is not present since TESS dataset does not contain calm class).\n",
    "- 01 (Random)\n",
    "- 03 (Random)\n",
    "- 01 (Random)\n",
    "- 01 (Random)\n",
    "\n",
    "The below cell performs the combining of RAVDESS and TESS dataset into the DATASET directory"
   ]
  },
  {
   "cell_type": "code",
   "execution_count": 2,
   "id": "d275226b-8773-4cd9-bcd1-d6cb636e9c45",
   "metadata": {},
   "outputs": [
    {
     "name": "stdout",
     "output_type": "stream",
     "text": [
      "TESS Pipeline Started\n",
      "TESS Pipeline Completed\n"
     ]
    }
   ],
   "source": [
    "# TESS Pipeline - to combine RAVDESS and TESS dataset. This can take some time.\n",
    "\n",
    "import os\n",
    "import shutil\n",
    "import random\n",
    "\n",
    "TRAINING_FILES_PATH = './DATASET/' #Path of DATASET folder containing RAVDESS dataset\n",
    "TESS_ORIGINAL_FOLDER_PATH = './TESS_Toronto_emotional_speech_set_data/' #Path of TESS dataset\n",
    "\n",
    "class TESSPipeline:\n",
    "    @staticmethod\n",
    "    def create_tess_folders(path):\n",
    "        label_conversion = {'01': 'neutral',\n",
    "                            '03': 'happy',\n",
    "                            '04': 'sad',\n",
    "                            '05': 'angry',\n",
    "                            '06': 'fear',\n",
    "                            '07': 'disgust',\n",
    "                            '08': 'ps'}\n",
    "\n",
    "        for subdir, dirs, files in os.walk(path):\n",
    "            for filename in files:\n",
    "                if filename.startswith('OAF'):\n",
    "                    destination_path = TRAINING_FILES_PATH + 'Actor_28/'\n",
    "                    old_file_path = os.path.join(os.path.abspath(subdir), filename)\n",
    "                    actor = '28'\n",
    "                    base, extension = os.path.splitext(filename)\n",
    "\n",
    "                    for key, value in label_conversion.items():\n",
    "                        if base.endswith(value):\n",
    "                            random_list = random.sample(range(10, 99), 6)\n",
    "                            file_name = '-'.join([str(i) for i in random_list])\n",
    "                            file_name_with_correct_emotion = file_name[:6] + key + '-' + file_name[9:] + '-26' + extension\n",
    "                            new_file_path = destination_path + file_name_with_correct_emotion\n",
    "                            shutil.copy(old_file_path, new_file_path)\n",
    "\n",
    "                else:\n",
    "                    destination_path = TRAINING_FILES_PATH + 'Actor_26/'\n",
    "                    old_file_path = os.path.join(os.path.abspath(subdir), filename)\n",
    "                    actor = '26'\n",
    "                    base, extension = os.path.splitext(filename)\n",
    "\n",
    "                    for key, value in label_conversion.items():\n",
    "                        if base.endswith(value):\n",
    "                            random_list = random.sample(range(10, 99), 6)\n",
    "                            file_name = '-'.join([str(i) for i in random_list])\n",
    "                            file_name_with_correct_emotion = (file_name[:6] + key + '-' + file_name[9:] + '-25' + extension).strip()\n",
    "                            new_file_path = destination_path + file_name_with_correct_emotion\n",
    "                            shutil.copy(old_file_path, new_file_path)\n",
    "print('TESS Pipeline Started')\n",
    "TESSPipeline.create_tess_folders(TESS_ORIGINAL_FOLDER_PATH)\n",
    "print('TESS Pipeline Completed')"
   ]
  },
  {
   "cell_type": "code",
   "execution_count": 21,
   "id": "cf0bf48d-c767-4b07-b070-68e885cdf0db",
   "metadata": {},
   "outputs": [],
   "source": [
    "# Removing the RAVDESS file structure heirarchy and directories\n",
    "!find DATASET/ -name \\*.wav -exec cp {} DATASET/ \\;\n",
    "! rm -rf DATASET/Actor_*"
   ]
  },
  {
   "cell_type": "code",
   "execution_count": 23,
   "id": "be634c36-9163-4cbe-96b0-7e4bd3a169d3",
   "metadata": {},
   "outputs": [
    {
     "name": "stdout",
     "output_type": "stream",
     "text": [
      "Combining RAVDESS and TESS dataset SUCCESSFUL\n"
     ]
    }
   ],
   "source": [
    "# Confirming if the pipeline was successful\n",
    "import subprocess\n",
    "count = subprocess.check_output('find DATASET/ -name \"*.wav\" | wc -l', shell=True)\n",
    "if count==b'5252\\n':\n",
    "    print(\"Combining RAVDESS and TESS dataset SUCCESSFUL\")\n",
    "else:\n",
    "    print(\"Combining RAVDESS and TESS dataset FAILED\")"
   ]
  },
  {
   "cell_type": "markdown",
   "id": "7d7a19a5-c646-4dce-8b28-433fec80806b",
   "metadata": {},
   "source": [
    "#### END OF NOTEBOOK"
   ]
  },
  {
   "cell_type": "markdown",
   "id": "ad9bc676-afae-4804-9000-c9731f0ec9a8",
   "metadata": {},
   "source": [
    "#### _Citations_\n",
    "\n",
    "###### RAVDESS\n",
    "* @article{10.1371/journal.pone.0196391,\n",
    "    doi = {10.1371/journal.pone.0196391},\n",
    "    author = {Livingstone, Steven R. AND Russo, Frank A.},\n",
    "    journal = {PLOS ONE},\n",
    "    publisher = {Public Library of Science},\n",
    "    title = {The Ryerson Audio-Visual Database of Emotional Speech and Song (RAVDESS): A dynamic, multimodal set of facial and vocal expressions in North American English},\n",
    "    year = {2018},\n",
    "    month = {05},\n",
    "    volume = {13},\n",
    "    url = {https://doi.org/10.1371/journal.pone.0196391},\n",
    "}\n",
    "\n",
    "###### TESS\n",
    "* @data{SP2/E8H2MF_2020,\n",
    "author = {Pichora-Fuller, M. Kathleen and Dupuis, Kate},\n",
    "publisher = {Borealis},\n",
    "title = {{Toronto emotional speech set (TESS)}},\n",
    "year = {2020},\n",
    "version = {DRAFT VERSION},\n",
    "doi = {10.5683/SP2/E8H2MF},\n",
    "url = {https://doi.org/10.5683/SP2/E8H2MF}\n",
    "}\n",
    "\n",
    "###### TESS Pipeline\n",
    "* https://github.com/marcogdepinto/emotion-classification-from-audio-files/blob/master/tess_pipeline.py"
   ]
  },
  {
   "cell_type": "code",
   "execution_count": null,
   "id": "8fe9d4d2-c4ea-465c-b67b-d49295ea5c56",
   "metadata": {},
   "outputs": [],
   "source": []
  }
 ],
 "metadata": {
  "kernelspec": {
   "display_name": "Tensorflow (AI kit)",
   "language": "python",
   "name": "c009-intel_distribution_of_python_3_oneapi-beta05-tf"
  },
  "language_info": {
   "codemirror_mode": {
    "name": "ipython",
    "version": 3
   },
   "file_extension": ".py",
   "mimetype": "text/x-python",
   "name": "python",
   "nbconvert_exporter": "python",
   "pygments_lexer": "ipython3",
   "version": "3.9.15"
  },
  "nbTranslate": {
   "displayLangs": [
    "*"
   ],
   "hotkey": "alt-t",
   "langInMainMenu": true,
   "sourceLang": "en",
   "targetLang": "fr",
   "useGoogleTranslate": true
  },
  "toc": {
   "base_numbering": 1,
   "nav_menu": {},
   "number_sections": true,
   "sideBar": true,
   "skip_h1_title": false,
   "title_cell": "Table of Contents",
   "title_sidebar": "Contents",
   "toc_cell": false,
   "toc_position": {},
   "toc_section_display": true,
   "toc_window_display": false
  }
 },
 "nbformat": 4,
 "nbformat_minor": 5
}
